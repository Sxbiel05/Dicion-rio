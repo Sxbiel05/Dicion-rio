{
  "cells": [
    {
      "cell_type": "code",
      "source": [
        "#nota dos alunos\n",
        "\n",
        "notas ={'matson':8.4,'Teo':6,}\n",
        "notas"
      ],
      "metadata": {
        "colab": {
          "base_uri": "https://localhost:8080/"
        },
        "id": "HlI7Yg8-zK-_",
        "outputId": "1d67ff67-18e7-4839-83b8-88de4e5cdfc7"
      },
      "execution_count": 8,
      "outputs": [
        {
          "output_type": "execute_result",
          "data": {
            "text/plain": [
              "{'matson': 8.4, 'Teo': 6}"
            ]
          },
          "metadata": {},
          "execution_count": 8
        }
      ]
    },
    {
      "cell_type": "code",
      "source": [
        "#adicionar aluna nova\n",
        "\n",
        "notas['Bruna'] = 8.7\n",
        "notas"
      ],
      "metadata": {
        "colab": {
          "base_uri": "https://localhost:8080/"
        },
        "id": "1WA3Gkop14it",
        "outputId": "3bb41ea9-8783-48e8-a855-5cd95fae8d58"
      },
      "execution_count": 9,
      "outputs": [
        {
          "output_type": "execute_result",
          "data": {
            "text/plain": [
              "{'matson': 8.4, 'Teo': 6, 'Bruna': 8.7}"
            ]
          },
          "metadata": {},
          "execution_count": 9
        }
      ]
    },
    {
      "cell_type": "code",
      "source": [
        "#alteração na nota do aluno\n",
        "\n",
        "notas['Teo'] = 9.2\n",
        "notas"
      ],
      "metadata": {
        "colab": {
          "base_uri": "https://localhost:8080/"
        },
        "id": "6lgwiGGy2YUN",
        "outputId": "75829a1f-3d77-4059-e866-7dd4a3f5a3e9"
      },
      "execution_count": 10,
      "outputs": [
        {
          "output_type": "execute_result",
          "data": {
            "text/plain": [
              "{'matson': 8.4, 'Teo': 9.2, 'Bruna': 8.7}"
            ]
          },
          "metadata": {},
          "execution_count": 10
        }
      ]
    },
    {
      "cell_type": "code",
      "source": [
        "#busca por aluno\n",
        "\n",
        "print('Carlos'in notas)"
      ],
      "metadata": {
        "colab": {
          "base_uri": "https://localhost:8080/"
        },
        "id": "rfgBssoq3F-5",
        "outputId": "037c0aa1-557d-4964-acdc-32be54a9990a"
      },
      "execution_count": 17,
      "outputs": [
        {
          "output_type": "stream",
          "name": "stdout",
          "text": [
            "False\n"
          ]
        }
      ]
    },
    {
      "cell_type": "code",
      "source": [
        "#excluir aluno\n",
        "\n",
        "del notas['matson']\n",
        "notas"
      ],
      "metadata": {
        "colab": {
          "base_uri": "https://localhost:8080/"
        },
        "id": "2DhldMMx3S-Q",
        "outputId": "4f966c4a-106f-4af0-85fd-cef08b8fb93c"
      },
      "execution_count": 16,
      "outputs": [
        {
          "output_type": "execute_result",
          "data": {
            "text/plain": [
              "{'Teo': 9.2, 'Bruna': 8.7}"
            ]
          },
          "metadata": {},
          "execution_count": 16
        }
      ]
    },
    {
      "cell_type": "code",
      "source": [
        "#adicionar 2 alunos\n",
        "\n",
        "notas['Andre'] = 4\n",
        "notas['Vitoria'] = 10\n",
        "notas\n"
      ],
      "metadata": {
        "colab": {
          "base_uri": "https://localhost:8080/"
        },
        "id": "aPKM3gTP3eNh",
        "outputId": "93b39c23-415e-485d-a4c0-e10145d2be41"
      },
      "execution_count": 18,
      "outputs": [
        {
          "output_type": "execute_result",
          "data": {
            "text/plain": [
              "{'Teo': 9.2, 'Bruna': 8.7, 'Andre': 4, 'Vitoria': 10}"
            ]
          },
          "metadata": {},
          "execution_count": 18
        }
      ]
    },
    {
      "cell_type": "code",
      "source": [
        "#todos os alunos\n",
        "\n",
        "print(notas.keys())"
      ],
      "metadata": {
        "colab": {
          "base_uri": "https://localhost:8080/"
        },
        "id": "-t98B1uW5Tha",
        "outputId": "0787f452-0ed9-408d-d03e-c43bd4bb8f63"
      },
      "execution_count": 19,
      "outputs": [
        {
          "output_type": "stream",
          "name": "stdout",
          "text": [
            "dict_keys(['Teo', 'Bruna', 'Andre', 'Vitoria'])\n"
          ]
        }
      ]
    },
    {
      "cell_type": "code",
      "source": [
        "#todas as notas\n",
        "\n",
        "print(notas.values())"
      ],
      "metadata": {
        "colab": {
          "base_uri": "https://localhost:8080/"
        },
        "id": "oEGzPGgE5byi",
        "outputId": "89c4bc08-51cf-4cba-bdf1-3c05d53a5791"
      },
      "execution_count": 20,
      "outputs": [
        {
          "output_type": "stream",
          "name": "stdout",
          "text": [
            "dict_values([9.2, 8.7, 4, 10])\n"
          ]
        }
      ]
    },
    {
      "cell_type": "code",
      "source": [
        "#busca por nota aluno\n",
        "\n",
        "notas.get('islla','Não encontrado!')"
      ],
      "metadata": {
        "colab": {
          "base_uri": "https://localhost:8080/",
          "height": 35
        },
        "id": "75RIuoei5koO",
        "outputId": "ead7fadb-5a5d-43b5-bcf4-f1f28f66d689"
      },
      "execution_count": 21,
      "outputs": [
        {
          "output_type": "execute_result",
          "data": {
            "text/plain": [
              "'Não encontrado!'"
            ],
            "application/vnd.google.colaboratory.intrinsic+json": {
              "type": "string"
            }
          },
          "metadata": {},
          "execution_count": 21
        }
      ]
    },
    {
      "cell_type": "code",
      "source": [
        "#busca por nota aluno\n",
        "\n",
        "notas.get('Vitoria')"
      ],
      "metadata": {
        "colab": {
          "base_uri": "https://localhost:8080/"
        },
        "id": "Y-FnPNK25w36",
        "outputId": "f9534485-a1bf-4e9b-94db-b27c69aa162d"
      },
      "execution_count": 26,
      "outputs": [
        {
          "output_type": "execute_result",
          "data": {
            "text/plain": [
              "10"
            ]
          },
          "metadata": {},
          "execution_count": 26
        }
      ]
    }
  ],
  "metadata": {
    "colab": {
      "name": "Conheça o Colab",
      "provenance": []
    },
    "kernelspec": {
      "display_name": "Python 3",
      "name": "python3"
    }
  },
  "nbformat": 4,
  "nbformat_minor": 0
}